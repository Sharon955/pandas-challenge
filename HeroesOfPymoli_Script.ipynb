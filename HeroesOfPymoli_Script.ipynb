{
 "cells": [
  {
   "cell_type": "code",
   "execution_count": 2,
   "metadata": {},
   "outputs": [
    {
     "data": {
      "text/html": [
       "<div>\n",
       "<style scoped>\n",
       "    .dataframe tbody tr th:only-of-type {\n",
       "        vertical-align: middle;\n",
       "    }\n",
       "\n",
       "    .dataframe tbody tr th {\n",
       "        vertical-align: top;\n",
       "    }\n",
       "\n",
       "    .dataframe thead th {\n",
       "        text-align: right;\n",
       "    }\n",
       "</style>\n",
       "<table border=\"1\" class=\"dataframe\">\n",
       "  <thead>\n",
       "    <tr style=\"text-align: right;\">\n",
       "      <th></th>\n",
       "      <th>Purchase ID</th>\n",
       "      <th>SN</th>\n",
       "      <th>Age</th>\n",
       "      <th>Gender</th>\n",
       "      <th>Item ID</th>\n",
       "      <th>Item Name</th>\n",
       "      <th>Price</th>\n",
       "    </tr>\n",
       "  </thead>\n",
       "  <tbody>\n",
       "    <tr>\n",
       "      <td>0</td>\n",
       "      <td>0</td>\n",
       "      <td>Lisim78</td>\n",
       "      <td>20</td>\n",
       "      <td>Male</td>\n",
       "      <td>108</td>\n",
       "      <td>Extraction, Quickblade Of Trembling Hands</td>\n",
       "      <td>3.53</td>\n",
       "    </tr>\n",
       "    <tr>\n",
       "      <td>1</td>\n",
       "      <td>1</td>\n",
       "      <td>Lisovynya38</td>\n",
       "      <td>40</td>\n",
       "      <td>Male</td>\n",
       "      <td>143</td>\n",
       "      <td>Frenzied Scimitar</td>\n",
       "      <td>1.56</td>\n",
       "    </tr>\n",
       "    <tr>\n",
       "      <td>2</td>\n",
       "      <td>2</td>\n",
       "      <td>Ithergue48</td>\n",
       "      <td>24</td>\n",
       "      <td>Male</td>\n",
       "      <td>92</td>\n",
       "      <td>Final Critic</td>\n",
       "      <td>4.88</td>\n",
       "    </tr>\n",
       "    <tr>\n",
       "      <td>3</td>\n",
       "      <td>3</td>\n",
       "      <td>Chamassasya86</td>\n",
       "      <td>24</td>\n",
       "      <td>Male</td>\n",
       "      <td>100</td>\n",
       "      <td>Blindscythe</td>\n",
       "      <td>3.27</td>\n",
       "    </tr>\n",
       "    <tr>\n",
       "      <td>4</td>\n",
       "      <td>4</td>\n",
       "      <td>Iskosia90</td>\n",
       "      <td>23</td>\n",
       "      <td>Male</td>\n",
       "      <td>131</td>\n",
       "      <td>Fury</td>\n",
       "      <td>1.44</td>\n",
       "    </tr>\n",
       "  </tbody>\n",
       "</table>\n",
       "</div>"
      ],
      "text/plain": [
       "   Purchase ID             SN  Age Gender  Item ID  \\\n",
       "0            0        Lisim78   20   Male      108   \n",
       "1            1    Lisovynya38   40   Male      143   \n",
       "2            2     Ithergue48   24   Male       92   \n",
       "3            3  Chamassasya86   24   Male      100   \n",
       "4            4      Iskosia90   23   Male      131   \n",
       "\n",
       "                                   Item Name  Price  \n",
       "0  Extraction, Quickblade Of Trembling Hands   3.53  \n",
       "1                          Frenzied Scimitar   1.56  \n",
       "2                               Final Critic   4.88  \n",
       "3                                Blindscythe   3.27  \n",
       "4                                       Fury   1.44  "
      ]
     },
     "execution_count": 2,
     "metadata": {},
     "output_type": "execute_result"
    }
   ],
   "source": [
    "#load file\n",
    "import pandas as pd\n",
    "import numpy as np\n",
    "purchase_raw = pd.read_csv(\"./Resources/purchase_data.csv\")\n",
    "purchase_raw.head(5)"
   ]
  },
  {
   "cell_type": "markdown",
   "metadata": {},
   "source": [
    "Player Count"
   ]
  },
  {
   "cell_type": "code",
   "execution_count": 3,
   "metadata": {},
   "outputs": [
    {
     "data": {
      "text/html": [
       "<div>\n",
       "<style scoped>\n",
       "    .dataframe tbody tr th:only-of-type {\n",
       "        vertical-align: middle;\n",
       "    }\n",
       "\n",
       "    .dataframe tbody tr th {\n",
       "        vertical-align: top;\n",
       "    }\n",
       "\n",
       "    .dataframe thead th {\n",
       "        text-align: right;\n",
       "    }\n",
       "</style>\n",
       "<table border=\"1\" class=\"dataframe\">\n",
       "  <thead>\n",
       "    <tr style=\"text-align: right;\">\n",
       "      <th></th>\n",
       "      <th>Total Player</th>\n",
       "    </tr>\n",
       "  </thead>\n",
       "  <tbody>\n",
       "    <tr>\n",
       "      <td>0</td>\n",
       "      <td>576</td>\n",
       "    </tr>\n",
       "  </tbody>\n",
       "</table>\n",
       "</div>"
      ],
      "text/plain": [
       "   Total Player\n",
       "0           576"
      ]
     },
     "execution_count": 3,
     "metadata": {},
     "output_type": "execute_result"
    }
   ],
   "source": [
    "#Player Count\n",
    "total_player_count = purchase_raw[\"SN\"].nunique()\n",
    "total_player = pd.DataFrame({\"Total Player\": [total_player_count]})\n",
    "total_player"
   ]
  },
  {
   "cell_type": "markdown",
   "metadata": {},
   "source": [
    "Purchase Analysis (Total)"
   ]
  },
  {
   "cell_type": "code",
   "execution_count": 4,
   "metadata": {},
   "outputs": [
    {
     "data": {
      "text/html": [
       "<style  type=\"text/css\" >\n",
       "</style><table id=\"T_8d92b2f8_5b1f_11ea_8555_9cb6d09af720\" ><thead>    <tr>        <th class=\"blank level0\" ></th>        <th class=\"col_heading level0 col0\" >Number of Unique Items</th>        <th class=\"col_heading level0 col1\" >Average Price</th>        <th class=\"col_heading level0 col2\" >Number of Purchases</th>        <th class=\"col_heading level0 col3\" >Total Revenue</th>    </tr></thead><tbody>\n",
       "                <tr>\n",
       "                        <th id=\"T_8d92b2f8_5b1f_11ea_8555_9cb6d09af720level0_row0\" class=\"row_heading level0 row0\" >0</th>\n",
       "                        <td id=\"T_8d92b2f8_5b1f_11ea_8555_9cb6d09af720row0_col0\" class=\"data row0 col0\" >183</td>\n",
       "                        <td id=\"T_8d92b2f8_5b1f_11ea_8555_9cb6d09af720row0_col1\" class=\"data row0 col1\" >$3.05</td>\n",
       "                        <td id=\"T_8d92b2f8_5b1f_11ea_8555_9cb6d09af720row0_col2\" class=\"data row0 col2\" >780</td>\n",
       "                        <td id=\"T_8d92b2f8_5b1f_11ea_8555_9cb6d09af720row0_col3\" class=\"data row0 col3\" >$2,379.77</td>\n",
       "            </tr>\n",
       "    </tbody></table>"
      ],
      "text/plain": [
       "<pandas.io.formats.style.Styler at 0x24f537c5548>"
      ]
     },
     "execution_count": 4,
     "metadata": {},
     "output_type": "execute_result"
    }
   ],
   "source": [
    "# Purchase Analysis (Total)\n",
    "# Number of Unique Items\n",
    "total_unique_item = purchase_raw[\"Item ID\"].nunique()\n",
    "\n",
    "#Total Number of Purchases\n",
    "total_purchase = purchase_raw[\"Purchase ID\"].count()\n",
    "\n",
    "#Total Revenue\n",
    "total_revenue = purchase_raw[\"Price\"].sum()\n",
    "\n",
    "#Average Purchase Price\n",
    "avg_purchase_price = round(total_revenue/total_purchase,2)\n",
    "\n",
    "purchase_analysis_total = pd.DataFrame({\n",
    "    \"Number of Unique Items\": [total_unique_item],\n",
    "    \"Average Price\": [avg_purchase_price],\n",
    "    \"Number of Purchases\": [total_purchase],\n",
    "    \"Total Revenue\": [total_revenue]\n",
    "})\n",
    "purchase_analysis_total\n",
    "format_dict = {'Average Price':'${:,.2f}','Total Revenue':'${:,.2f}'}\n",
    "purchase_analysis_total.style.format(format_dict)"
   ]
  },
  {
   "cell_type": "markdown",
   "metadata": {},
   "source": [
    "Gender Demographics"
   ]
  },
  {
   "cell_type": "code",
   "execution_count": 5,
   "metadata": {},
   "outputs": [
    {
     "data": {
      "text/html": [
       "<style  type=\"text/css\" >\n",
       "</style><table id=\"T_8eb7d5b0_5b1f_11ea_a6d8_9cb6d09af720\" ><thead>    <tr>        <th class=\"blank level0\" ></th>        <th class=\"col_heading level0 col0\" >Total Count</th>        <th class=\"col_heading level0 col1\" >Percentage of Players</th>    </tr>    <tr>        <th class=\"index_name level0\" ></th>        <th class=\"blank\" ></th>        <th class=\"blank\" ></th>    </tr></thead><tbody>\n",
       "                <tr>\n",
       "                        <th id=\"T_8eb7d5b0_5b1f_11ea_a6d8_9cb6d09af720level0_row0\" class=\"row_heading level0 row0\" >Male</th>\n",
       "                        <td id=\"T_8eb7d5b0_5b1f_11ea_a6d8_9cb6d09af720row0_col0\" class=\"data row0 col0\" >484</td>\n",
       "                        <td id=\"T_8eb7d5b0_5b1f_11ea_a6d8_9cb6d09af720row0_col1\" class=\"data row0 col1\" >84.03%</td>\n",
       "            </tr>\n",
       "            <tr>\n",
       "                        <th id=\"T_8eb7d5b0_5b1f_11ea_a6d8_9cb6d09af720level0_row1\" class=\"row_heading level0 row1\" >Female</th>\n",
       "                        <td id=\"T_8eb7d5b0_5b1f_11ea_a6d8_9cb6d09af720row1_col0\" class=\"data row1 col0\" >81</td>\n",
       "                        <td id=\"T_8eb7d5b0_5b1f_11ea_a6d8_9cb6d09af720row1_col1\" class=\"data row1 col1\" >14.06%</td>\n",
       "            </tr>\n",
       "            <tr>\n",
       "                        <th id=\"T_8eb7d5b0_5b1f_11ea_a6d8_9cb6d09af720level0_row2\" class=\"row_heading level0 row2\" >Other/Non-Disclosed</th>\n",
       "                        <td id=\"T_8eb7d5b0_5b1f_11ea_a6d8_9cb6d09af720row2_col0\" class=\"data row2 col0\" >11</td>\n",
       "                        <td id=\"T_8eb7d5b0_5b1f_11ea_a6d8_9cb6d09af720row2_col1\" class=\"data row2 col1\" >1.91%</td>\n",
       "            </tr>\n",
       "    </tbody></table>"
      ],
      "text/plain": [
       "<pandas.io.formats.style.Styler at 0x24f5407be88>"
      ]
     },
     "execution_count": 5,
     "metadata": {},
     "output_type": "execute_result"
    }
   ],
   "source": [
    "#Gender Demographics\n",
    "#Percentage and Count of Male Players\n",
    "male_player = purchase_raw.loc[purchase_raw[\"Gender\"]==\"Male\",:]\n",
    "count_male_player = male_player[\"SN\"].nunique()\n",
    "percent_male_player = round(count_male_player/total_player_count,4)\n",
    "\n",
    "#Percentage and Count of Female Players\n",
    "female_player = purchase_raw.loc[purchase_raw[\"Gender\"]==\"Female\",:]\n",
    "count_female_player = female_player[\"SN\"].nunique()\n",
    "percent_female_player = round(count_female_player/total_player_count,4)\n",
    "\n",
    "#Percentage and Count of Other / Non-Disclosed\n",
    "count_other = total_player_count - count_male_player - count_female_player\n",
    "percent_other = 1 - percent_male_player - percent_female_player\n",
    "\n",
    "gender_demographics = pd.DataFrame({\n",
    "    \"\": [\"Male\", \"Female\", \"Other/Non-Disclosed\"],\n",
    "    \"Total Count\": [count_male_player, count_female_player, count_other],\n",
    "    \"Percentage of Players\": [percent_male_player, percent_female_player, percent_other]\n",
    "})\n",
    "gender_table = gender_demographics.set_index(\"\")\n",
    "gender_format = {'Percentage of Players':'{:.2%}'}\n",
    "gender_table.style.format(gender_format)"
   ]
  },
  {
   "cell_type": "markdown",
   "metadata": {},
   "source": [
    "Purchase Analysis (Gender)"
   ]
  },
  {
   "cell_type": "code",
   "execution_count": 6,
   "metadata": {},
   "outputs": [
    {
     "data": {
      "text/html": [
       "<style  type=\"text/css\" >\n",
       "</style><table id=\"T_9004e12e_5b1f_11ea_9d59_9cb6d09af720\" ><thead>    <tr>        <th class=\"blank level0\" ></th>        <th class=\"col_heading level0 col0\" >Gender</th>        <th class=\"col_heading level0 col1\" >Purchase Count</th>        <th class=\"col_heading level0 col2\" >Average Purchase Price</th>        <th class=\"col_heading level0 col3\" >Total Purchase Value</th>        <th class=\"col_heading level0 col4\" >Avg Total Purchase per Person</th>    </tr></thead><tbody>\n",
       "                <tr>\n",
       "                        <th id=\"T_9004e12e_5b1f_11ea_9d59_9cb6d09af720level0_row0\" class=\"row_heading level0 row0\" >0</th>\n",
       "                        <td id=\"T_9004e12e_5b1f_11ea_9d59_9cb6d09af720row0_col0\" class=\"data row0 col0\" >Female</td>\n",
       "                        <td id=\"T_9004e12e_5b1f_11ea_9d59_9cb6d09af720row0_col1\" class=\"data row0 col1\" >113</td>\n",
       "                        <td id=\"T_9004e12e_5b1f_11ea_9d59_9cb6d09af720row0_col2\" class=\"data row0 col2\" >$3.20</td>\n",
       "                        <td id=\"T_9004e12e_5b1f_11ea_9d59_9cb6d09af720row0_col3\" class=\"data row0 col3\" >$361.94</td>\n",
       "                        <td id=\"T_9004e12e_5b1f_11ea_9d59_9cb6d09af720row0_col4\" class=\"data row0 col4\" >$4.47</td>\n",
       "            </tr>\n",
       "            <tr>\n",
       "                        <th id=\"T_9004e12e_5b1f_11ea_9d59_9cb6d09af720level0_row1\" class=\"row_heading level0 row1\" >1</th>\n",
       "                        <td id=\"T_9004e12e_5b1f_11ea_9d59_9cb6d09af720row1_col0\" class=\"data row1 col0\" >Male</td>\n",
       "                        <td id=\"T_9004e12e_5b1f_11ea_9d59_9cb6d09af720row1_col1\" class=\"data row1 col1\" >652</td>\n",
       "                        <td id=\"T_9004e12e_5b1f_11ea_9d59_9cb6d09af720row1_col2\" class=\"data row1 col2\" >$3.02</td>\n",
       "                        <td id=\"T_9004e12e_5b1f_11ea_9d59_9cb6d09af720row1_col3\" class=\"data row1 col3\" >$1,967.64</td>\n",
       "                        <td id=\"T_9004e12e_5b1f_11ea_9d59_9cb6d09af720row1_col4\" class=\"data row1 col4\" >$4.07</td>\n",
       "            </tr>\n",
       "            <tr>\n",
       "                        <th id=\"T_9004e12e_5b1f_11ea_9d59_9cb6d09af720level0_row2\" class=\"row_heading level0 row2\" >2</th>\n",
       "                        <td id=\"T_9004e12e_5b1f_11ea_9d59_9cb6d09af720row2_col0\" class=\"data row2 col0\" >Other / Non-Disclosed</td>\n",
       "                        <td id=\"T_9004e12e_5b1f_11ea_9d59_9cb6d09af720row2_col1\" class=\"data row2 col1\" >15</td>\n",
       "                        <td id=\"T_9004e12e_5b1f_11ea_9d59_9cb6d09af720row2_col2\" class=\"data row2 col2\" >$3.35</td>\n",
       "                        <td id=\"T_9004e12e_5b1f_11ea_9d59_9cb6d09af720row2_col3\" class=\"data row2 col3\" >$50.19</td>\n",
       "                        <td id=\"T_9004e12e_5b1f_11ea_9d59_9cb6d09af720row2_col4\" class=\"data row2 col4\" >$4.56</td>\n",
       "            </tr>\n",
       "    </tbody></table>"
      ],
      "text/plain": [
       "<pandas.io.formats.style.Styler at 0x24f50ddd788>"
      ]
     },
     "execution_count": 6,
     "metadata": {},
     "output_type": "execute_result"
    }
   ],
   "source": [
    "#Purchasing Analysis (Gender)\n",
    "gender_list = [\"Female\", \"Male\", \"Other\"]\n",
    "other_player = purchase_raw.loc[purchase_raw[\"Gender\"]==\"Other / Non-Disclosed\",:]\n",
    "\n",
    "#Purchase Count\n",
    "male_purchase = male_player[\"Purchase ID\"].nunique()\n",
    "female_purchase = female_player[\"Purchase ID\"].nunique()\n",
    "other_purchase = total_purchase - male_purchase - female_purchase\n",
    "purchase_count_list = [female_purchase,male_purchase,other_purchase]\n",
    "\n",
    "#Average Purchase Price\n",
    "avg_female_price = female_player[\"Price\"].mean()\n",
    "avg_male_price = male_player[\"Price\"].mean()\n",
    "avg_other_price = other_player[\"Price\"].mean()\n",
    "avg_price_list = [avg_female_price, avg_male_price, avg_other_price]\n",
    "\n",
    "#Total Purchase Value\n",
    "total_female_value = female_player[\"Price\"].sum()\n",
    "total_male_value = male_player[\"Price\"].sum()\n",
    "total_other_value = other_player[\"Price\"].sum()\n",
    "total_value_list = [total_female_value, total_male_value, total_other_value]\n",
    "\n",
    "#Average Purchase Total per Person by Gender\n",
    "avg_female_person = total_female_value/count_female_player\n",
    "avg_male_person = total_male_value/count_male_player\n",
    "avg_other_person = total_other_value/count_other\n",
    "avg_total_person_list = [avg_female_person, avg_male_person, avg_other_person]\n",
    "\n",
    "gender_purchase = pd.DataFrame({\n",
    "    \"Gender\": [\"Female\", \"Male\",\"Other / Non-Disclosed\"],\n",
    "    \"Purchase Count\": purchase_count_list,\n",
    "    \"Average Purchase Price\": avg_price_list,\n",
    "    \"Total Purchase Value\": total_value_list,\n",
    "    \"Avg Total Purchase per Person\": avg_total_person_list\n",
    "})\n",
    "\n",
    "gender_purchase_format = {'Average Purchase Price':'${:,.2f}', \"Total Purchase Value\": '${:,.2f}',\"Avg Total Purchase per Person\": '${:,.2f}'}\n",
    "gender_purchase.set_index(\"Gender\")\n",
    "gender_purchase.style.format(gender_purchase_format)"
   ]
  },
  {
   "cell_type": "markdown",
   "metadata": {},
   "source": [
    "Age Demographics"
   ]
  },
  {
   "cell_type": "code",
   "execution_count": 7,
   "metadata": {},
   "outputs": [
    {
     "data": {
      "text/html": [
       "<div>\n",
       "<style scoped>\n",
       "    .dataframe tbody tr th:only-of-type {\n",
       "        vertical-align: middle;\n",
       "    }\n",
       "\n",
       "    .dataframe tbody tr th {\n",
       "        vertical-align: top;\n",
       "    }\n",
       "\n",
       "    .dataframe thead th {\n",
       "        text-align: right;\n",
       "    }\n",
       "</style>\n",
       "<table border=\"1\" class=\"dataframe\">\n",
       "  <thead>\n",
       "    <tr style=\"text-align: right;\">\n",
       "      <th></th>\n",
       "      <th>Total Count</th>\n",
       "      <th>Percentage of Players</th>\n",
       "    </tr>\n",
       "    <tr>\n",
       "      <th>Age Group</th>\n",
       "      <th></th>\n",
       "      <th></th>\n",
       "    </tr>\n",
       "  </thead>\n",
       "  <tbody>\n",
       "    <tr>\n",
       "      <td>&lt;10</td>\n",
       "      <td>17</td>\n",
       "      <td>2.95%</td>\n",
       "    </tr>\n",
       "    <tr>\n",
       "      <td>10-14</td>\n",
       "      <td>22</td>\n",
       "      <td>3.82%</td>\n",
       "    </tr>\n",
       "    <tr>\n",
       "      <td>15-19</td>\n",
       "      <td>107</td>\n",
       "      <td>18.58%</td>\n",
       "    </tr>\n",
       "    <tr>\n",
       "      <td>20-24</td>\n",
       "      <td>258</td>\n",
       "      <td>44.79%</td>\n",
       "    </tr>\n",
       "    <tr>\n",
       "      <td>25-29</td>\n",
       "      <td>77</td>\n",
       "      <td>13.37%</td>\n",
       "    </tr>\n",
       "    <tr>\n",
       "      <td>30-34</td>\n",
       "      <td>52</td>\n",
       "      <td>9.03%</td>\n",
       "    </tr>\n",
       "    <tr>\n",
       "      <td>35-39</td>\n",
       "      <td>31</td>\n",
       "      <td>5.38%</td>\n",
       "    </tr>\n",
       "    <tr>\n",
       "      <td>40+</td>\n",
       "      <td>12</td>\n",
       "      <td>2.08%</td>\n",
       "    </tr>\n",
       "  </tbody>\n",
       "</table>\n",
       "</div>"
      ],
      "text/plain": [
       "           Total Count Percentage of Players\n",
       "Age Group                                   \n",
       "<10                 17                 2.95%\n",
       "10-14               22                 3.82%\n",
       "15-19              107                18.58%\n",
       "20-24              258                44.79%\n",
       "25-29               77                13.37%\n",
       "30-34               52                 9.03%\n",
       "35-39               31                 5.38%\n",
       "40+                 12                 2.08%"
      ]
     },
     "execution_count": 7,
     "metadata": {},
     "output_type": "execute_result"
    }
   ],
   "source": [
    "#Age Demographics\n",
    "bins = [0,9,14,19,24,29,34,39,100]\n",
    "bins_label = [\"<10\",\"10-14\",\"15-19\",\"20-24\",\"25-29\",\"30-34\",\"35-39\",\"40+\"]\n",
    "purchase_raw[\"Age Group\"] = pd.cut(purchase_raw[\"Age\"], bins, labels = bins_label, include_lowest = True)\n",
    "age_group_count = purchase_raw.groupby([\"Age Group\"]).nunique()\n",
    "age_group_count = age_group_count.drop(columns = [\"Purchase ID\",\"Age\",\"Gender\",\"Item ID\", \"Item Name\",\"Price\",\"Age Group\"]).rename(columns = {\"SN\":\"Total Count\"})\n",
    "age_group_count[\"Percentage of Players\"] = round(age_group_count[\"Total Count\"]/age_group_count[\"Total Count\"].sum(),4)\n",
    "age_group_count[\"Percentage of Players\"] = (age_group_count[\"Percentage of Players\"]*100).map(\"{:,.2f}%\".format)\n",
    "age_group_count"
   ]
  },
  {
   "cell_type": "markdown",
   "metadata": {},
   "source": [
    "Top 5 Spenders\n",
    "by total Purcase Value"
   ]
  },
  {
   "cell_type": "code",
   "execution_count": 8,
   "metadata": {},
   "outputs": [
    {
     "data": {
      "text/html": [
       "<style  type=\"text/css\" >\n",
       "</style><table id=\"T_9273b906_5b1f_11ea_b20b_9cb6d09af720\" ><thead>    <tr>        <th class=\"blank level0\" ></th>        <th class=\"col_heading level0 col0\" >Purchase Count</th>        <th class=\"col_heading level0 col1\" >Average Purchase Price</th>        <th class=\"col_heading level0 col2\" >Total Purchase Value</th>    </tr>    <tr>        <th class=\"index_name level0\" >SN</th>        <th class=\"blank\" ></th>        <th class=\"blank\" ></th>        <th class=\"blank\" ></th>    </tr></thead><tbody>\n",
       "                <tr>\n",
       "                        <th id=\"T_9273b906_5b1f_11ea_b20b_9cb6d09af720level0_row0\" class=\"row_heading level0 row0\" >Lisosia93</th>\n",
       "                        <td id=\"T_9273b906_5b1f_11ea_b20b_9cb6d09af720row0_col0\" class=\"data row0 col0\" >5</td>\n",
       "                        <td id=\"T_9273b906_5b1f_11ea_b20b_9cb6d09af720row0_col1\" class=\"data row0 col1\" >$3.79</td>\n",
       "                        <td id=\"T_9273b906_5b1f_11ea_b20b_9cb6d09af720row0_col2\" class=\"data row0 col2\" >$18.96</td>\n",
       "            </tr>\n",
       "            <tr>\n",
       "                        <th id=\"T_9273b906_5b1f_11ea_b20b_9cb6d09af720level0_row1\" class=\"row_heading level0 row1\" >Idastidru52</th>\n",
       "                        <td id=\"T_9273b906_5b1f_11ea_b20b_9cb6d09af720row1_col0\" class=\"data row1 col0\" >4</td>\n",
       "                        <td id=\"T_9273b906_5b1f_11ea_b20b_9cb6d09af720row1_col1\" class=\"data row1 col1\" >$3.86</td>\n",
       "                        <td id=\"T_9273b906_5b1f_11ea_b20b_9cb6d09af720row1_col2\" class=\"data row1 col2\" >$15.45</td>\n",
       "            </tr>\n",
       "            <tr>\n",
       "                        <th id=\"T_9273b906_5b1f_11ea_b20b_9cb6d09af720level0_row2\" class=\"row_heading level0 row2\" >Chamjask73</th>\n",
       "                        <td id=\"T_9273b906_5b1f_11ea_b20b_9cb6d09af720row2_col0\" class=\"data row2 col0\" >3</td>\n",
       "                        <td id=\"T_9273b906_5b1f_11ea_b20b_9cb6d09af720row2_col1\" class=\"data row2 col1\" >$4.61</td>\n",
       "                        <td id=\"T_9273b906_5b1f_11ea_b20b_9cb6d09af720row2_col2\" class=\"data row2 col2\" >$13.83</td>\n",
       "            </tr>\n",
       "            <tr>\n",
       "                        <th id=\"T_9273b906_5b1f_11ea_b20b_9cb6d09af720level0_row3\" class=\"row_heading level0 row3\" >Iral74</th>\n",
       "                        <td id=\"T_9273b906_5b1f_11ea_b20b_9cb6d09af720row3_col0\" class=\"data row3 col0\" >4</td>\n",
       "                        <td id=\"T_9273b906_5b1f_11ea_b20b_9cb6d09af720row3_col1\" class=\"data row3 col1\" >$3.40</td>\n",
       "                        <td id=\"T_9273b906_5b1f_11ea_b20b_9cb6d09af720row3_col2\" class=\"data row3 col2\" >$13.62</td>\n",
       "            </tr>\n",
       "            <tr>\n",
       "                        <th id=\"T_9273b906_5b1f_11ea_b20b_9cb6d09af720level0_row4\" class=\"row_heading level0 row4\" >Iskadarya95</th>\n",
       "                        <td id=\"T_9273b906_5b1f_11ea_b20b_9cb6d09af720row4_col0\" class=\"data row4 col0\" >3</td>\n",
       "                        <td id=\"T_9273b906_5b1f_11ea_b20b_9cb6d09af720row4_col1\" class=\"data row4 col1\" >$4.37</td>\n",
       "                        <td id=\"T_9273b906_5b1f_11ea_b20b_9cb6d09af720row4_col2\" class=\"data row4 col2\" >$13.10</td>\n",
       "            </tr>\n",
       "    </tbody></table>"
      ],
      "text/plain": [
       "<pandas.io.formats.style.Styler at 0x24f5402ff88>"
      ]
     },
     "execution_count": 8,
     "metadata": {},
     "output_type": "execute_result"
    }
   ],
   "source": [
    "#Top 5 Spenders by total purchase value\n",
    "person_total_purchase = purchase_raw.groupby(\"SN\").sum()\n",
    "ranked_spenders = person_total_purchase.sort_values([\"Price\"],ascending = False)\n",
    "top_5_spender = ranked_spenders.head(5)\n",
    "top_5_dropped = top_5_spender.drop(columns = [\"Purchase ID\",\"Age\",\"Item ID\"])\n",
    "\n",
    "person_number_purchase = purchase_raw.groupby(\"SN\").count()\n",
    "person_purchase_count = person_number_purchase.drop(columns = [\"Age\", \"Gender\",\"Item ID\", \"Item Name\", \"Price\"])\n",
    "\n",
    "top_5_spenders_format = pd.merge(top_5_dropped, person_purchase_count, on = \"SN\", how = \"left\")\n",
    "top_5_spenders_format[\"Average Purchase Price\"] = top_5_spenders_format[\"Price\"]/top_5_spenders_format[\"Purchase ID\"]\n",
    "top_5_spenders_format = top_5_spenders_format[[\"Purchase ID\", \"Average Purchase Price\",\"Price\"]]\n",
    "top_5_spenders_final = top_5_spenders_format.rename(columns = {\"Price\":\"Total Purchase Value\", \"Purchase ID\":\"Purchase Count\"})\n",
    "\n",
    "top_5_spender_tableformat = {'Average Purchase Price':'${:,.2f}', \"Total Purchase Value\": '${:,.2f}'}\n",
    "top_5_spenders_final.style.format(top_5_spender_tableformat)\n",
    "\n"
   ]
  },
  {
   "cell_type": "markdown",
   "metadata": {},
   "source": [
    "Top 5 Pupolar Items\n",
    "by Purchase Count"
   ]
  },
  {
   "cell_type": "code",
   "execution_count": 9,
   "metadata": {},
   "outputs": [
    {
     "data": {
      "text/html": [
       "<style  type=\"text/css\" >\n",
       "</style><table id=\"T_939f5f8c_5b1f_11ea_a0d4_9cb6d09af720\" ><thead>    <tr>        <th class=\"blank\" ></th>        <th class=\"blank level0\" ></th>        <th class=\"col_heading level0 col0\" >Purchase Count</th>        <th class=\"col_heading level0 col1\" >Item Price</th>        <th class=\"col_heading level0 col2\" >Total Purchase Value</th>    </tr>    <tr>        <th class=\"index_name level0\" >Item ID</th>        <th class=\"index_name level1\" >Item Name</th>        <th class=\"blank\" ></th>        <th class=\"blank\" ></th>        <th class=\"blank\" ></th>    </tr></thead><tbody>\n",
       "                <tr>\n",
       "                        <th id=\"T_939f5f8c_5b1f_11ea_a0d4_9cb6d09af720level0_row0\" class=\"row_heading level0 row0\" >178</th>\n",
       "                        <th id=\"T_939f5f8c_5b1f_11ea_a0d4_9cb6d09af720level1_row0\" class=\"row_heading level1 row0\" >Oathbreaker, Last Hope of the Breaking Storm</th>\n",
       "                        <td id=\"T_939f5f8c_5b1f_11ea_a0d4_9cb6d09af720row0_col0\" class=\"data row0 col0\" >12</td>\n",
       "                        <td id=\"T_939f5f8c_5b1f_11ea_a0d4_9cb6d09af720row0_col1\" class=\"data row0 col1\" >$4.23</td>\n",
       "                        <td id=\"T_939f5f8c_5b1f_11ea_a0d4_9cb6d09af720row0_col2\" class=\"data row0 col2\" >$50.76</td>\n",
       "            </tr>\n",
       "            <tr>\n",
       "                        <th id=\"T_939f5f8c_5b1f_11ea_a0d4_9cb6d09af720level0_row1\" class=\"row_heading level0 row1\" >145</th>\n",
       "                        <th id=\"T_939f5f8c_5b1f_11ea_a0d4_9cb6d09af720level1_row1\" class=\"row_heading level1 row1\" >Fiery Glass Crusader</th>\n",
       "                        <td id=\"T_939f5f8c_5b1f_11ea_a0d4_9cb6d09af720row1_col0\" class=\"data row1 col0\" >9</td>\n",
       "                        <td id=\"T_939f5f8c_5b1f_11ea_a0d4_9cb6d09af720row1_col1\" class=\"data row1 col1\" >$4.58</td>\n",
       "                        <td id=\"T_939f5f8c_5b1f_11ea_a0d4_9cb6d09af720row1_col2\" class=\"data row1 col2\" >$41.22</td>\n",
       "            </tr>\n",
       "            <tr>\n",
       "                        <th id=\"T_939f5f8c_5b1f_11ea_a0d4_9cb6d09af720level0_row2\" class=\"row_heading level0 row2\" >108</th>\n",
       "                        <th id=\"T_939f5f8c_5b1f_11ea_a0d4_9cb6d09af720level1_row2\" class=\"row_heading level1 row2\" >Extraction, Quickblade Of Trembling Hands</th>\n",
       "                        <td id=\"T_939f5f8c_5b1f_11ea_a0d4_9cb6d09af720row2_col0\" class=\"data row2 col0\" >9</td>\n",
       "                        <td id=\"T_939f5f8c_5b1f_11ea_a0d4_9cb6d09af720row2_col1\" class=\"data row2 col1\" >$3.53</td>\n",
       "                        <td id=\"T_939f5f8c_5b1f_11ea_a0d4_9cb6d09af720row2_col2\" class=\"data row2 col2\" >$31.77</td>\n",
       "            </tr>\n",
       "            <tr>\n",
       "                        <th id=\"T_939f5f8c_5b1f_11ea_a0d4_9cb6d09af720level0_row3\" class=\"row_heading level0 row3\" >82</th>\n",
       "                        <th id=\"T_939f5f8c_5b1f_11ea_a0d4_9cb6d09af720level1_row3\" class=\"row_heading level1 row3\" >Nirvana</th>\n",
       "                        <td id=\"T_939f5f8c_5b1f_11ea_a0d4_9cb6d09af720row3_col0\" class=\"data row3 col0\" >9</td>\n",
       "                        <td id=\"T_939f5f8c_5b1f_11ea_a0d4_9cb6d09af720row3_col1\" class=\"data row3 col1\" >$4.90</td>\n",
       "                        <td id=\"T_939f5f8c_5b1f_11ea_a0d4_9cb6d09af720row3_col2\" class=\"data row3 col2\" >$44.10</td>\n",
       "            </tr>\n",
       "            <tr>\n",
       "                        <th id=\"T_939f5f8c_5b1f_11ea_a0d4_9cb6d09af720level0_row4\" class=\"row_heading level0 row4\" >19</th>\n",
       "                        <th id=\"T_939f5f8c_5b1f_11ea_a0d4_9cb6d09af720level1_row4\" class=\"row_heading level1 row4\" >Pursuit, Cudgel of Necromancy</th>\n",
       "                        <td id=\"T_939f5f8c_5b1f_11ea_a0d4_9cb6d09af720row4_col0\" class=\"data row4 col0\" >8</td>\n",
       "                        <td id=\"T_939f5f8c_5b1f_11ea_a0d4_9cb6d09af720row4_col1\" class=\"data row4 col1\" >$1.02</td>\n",
       "                        <td id=\"T_939f5f8c_5b1f_11ea_a0d4_9cb6d09af720row4_col2\" class=\"data row4 col2\" >$8.16</td>\n",
       "            </tr>\n",
       "    </tbody></table>"
      ],
      "text/plain": [
       "<pandas.io.formats.style.Styler at 0x24f54087748>"
      ]
     },
     "execution_count": 9,
     "metadata": {},
     "output_type": "execute_result"
    }
   ],
   "source": [
    "# 5 Most Popular Items by purchase count\n",
    "person_purchase_count = purchase_raw.groupby(\"Item ID\").count()\n",
    "ranked_purchase_count = person_purchase_count.sort_values([\"Purchase ID\"], ascending = False)\n",
    "top_5_purchase_count = ranked_purchase_count.head(5)\n",
    "top_5_purchase_count_2 = top_5_purchase_count.drop(columns = [\"SN\", \"Age\",\"Gender\",\"Item Name\", \"Price\"])\n",
    "\n",
    "total_purchase_table = purchase_raw.groupby(\"Item ID\").sum()\n",
    "total_purchase_table_2 = total_purchase_table.drop(columns = [\"Purchase ID\", \"Age\"])\n",
    "\n",
    "top_5_item_pre = pd.merge(top_5_purchase_count_2, total_purchase_table_2, on = \"Item ID\", how = \"left\")\n",
    "top_5_item_pre_2 = top_5_item_pre.rename(columns = {\"Purchase ID\": \"Purchase Count\", \"Price\": \"Total Purchase Value\"})\n",
    "\n",
    "purchase_raw_dropped = purchase_raw.drop(columns=[\"Purchase ID\", \"SN\", \"Age\",\"Gender\",\"Age Group\"]).drop_duplicates()\n",
    "\n",
    "top_5_item = pd.merge(top_5_item_pre_2, purchase_raw_dropped, on = \"Item ID\", how = \"left\")\n",
    "top_5_item = top_5_item.rename(columns = {\"Price\": \"Item Price\"}).set_index([\"Item ID\", \"Item Name\"])\n",
    "top_5_item = top_5_item[[\"Purchase Count\", \"Item Price\", \"Total Purchase Value\"]]\n",
    "top_5_item_tableformat = {'Item Price':'${:,.2f}', \"Total Purchase Value\": '${:,.2f}'}\n",
    "top_5_item.style.format(top_5_item_tableformat)"
   ]
  },
  {
   "cell_type": "markdown",
   "metadata": {},
   "source": [
    "Top 5 Most Profitable Items\n",
    "by Total Purchase Value"
   ]
  },
  {
   "cell_type": "code",
   "execution_count": 10,
   "metadata": {},
   "outputs": [
    {
     "data": {
      "text/html": [
       "<style  type=\"text/css\" >\n",
       "</style><table id=\"T_94ce4182_5b1f_11ea_be4b_9cb6d09af720\" ><thead>    <tr>        <th class=\"blank\" ></th>        <th class=\"blank level0\" ></th>        <th class=\"col_heading level0 col0\" >Purchase Count</th>        <th class=\"col_heading level0 col1\" >Item Price</th>        <th class=\"col_heading level0 col2\" >Total Purchase Value</th>    </tr>    <tr>        <th class=\"index_name level0\" >Item ID</th>        <th class=\"index_name level1\" >Item Name</th>        <th class=\"blank\" ></th>        <th class=\"blank\" ></th>        <th class=\"blank\" ></th>    </tr></thead><tbody>\n",
       "                <tr>\n",
       "                        <th id=\"T_94ce4182_5b1f_11ea_be4b_9cb6d09af720level0_row0\" class=\"row_heading level0 row0\" >178</th>\n",
       "                        <th id=\"T_94ce4182_5b1f_11ea_be4b_9cb6d09af720level1_row0\" class=\"row_heading level1 row0\" >Oathbreaker, Last Hope of the Breaking Storm</th>\n",
       "                        <td id=\"T_94ce4182_5b1f_11ea_be4b_9cb6d09af720row0_col0\" class=\"data row0 col0\" >12</td>\n",
       "                        <td id=\"T_94ce4182_5b1f_11ea_be4b_9cb6d09af720row0_col1\" class=\"data row0 col1\" >$4.23</td>\n",
       "                        <td id=\"T_94ce4182_5b1f_11ea_be4b_9cb6d09af720row0_col2\" class=\"data row0 col2\" >$50.76</td>\n",
       "            </tr>\n",
       "            <tr>\n",
       "                        <th id=\"T_94ce4182_5b1f_11ea_be4b_9cb6d09af720level0_row1\" class=\"row_heading level0 row1\" >82</th>\n",
       "                        <th id=\"T_94ce4182_5b1f_11ea_be4b_9cb6d09af720level1_row1\" class=\"row_heading level1 row1\" >Nirvana</th>\n",
       "                        <td id=\"T_94ce4182_5b1f_11ea_be4b_9cb6d09af720row1_col0\" class=\"data row1 col0\" >9</td>\n",
       "                        <td id=\"T_94ce4182_5b1f_11ea_be4b_9cb6d09af720row1_col1\" class=\"data row1 col1\" >$4.90</td>\n",
       "                        <td id=\"T_94ce4182_5b1f_11ea_be4b_9cb6d09af720row1_col2\" class=\"data row1 col2\" >$44.10</td>\n",
       "            </tr>\n",
       "            <tr>\n",
       "                        <th id=\"T_94ce4182_5b1f_11ea_be4b_9cb6d09af720level0_row2\" class=\"row_heading level0 row2\" >145</th>\n",
       "                        <th id=\"T_94ce4182_5b1f_11ea_be4b_9cb6d09af720level1_row2\" class=\"row_heading level1 row2\" >Fiery Glass Crusader</th>\n",
       "                        <td id=\"T_94ce4182_5b1f_11ea_be4b_9cb6d09af720row2_col0\" class=\"data row2 col0\" >9</td>\n",
       "                        <td id=\"T_94ce4182_5b1f_11ea_be4b_9cb6d09af720row2_col1\" class=\"data row2 col1\" >$4.58</td>\n",
       "                        <td id=\"T_94ce4182_5b1f_11ea_be4b_9cb6d09af720row2_col2\" class=\"data row2 col2\" >$41.22</td>\n",
       "            </tr>\n",
       "            <tr>\n",
       "                        <th id=\"T_94ce4182_5b1f_11ea_be4b_9cb6d09af720level0_row3\" class=\"row_heading level0 row3\" >92</th>\n",
       "                        <th id=\"T_94ce4182_5b1f_11ea_be4b_9cb6d09af720level1_row3\" class=\"row_heading level1 row3\" >Final Critic</th>\n",
       "                        <td id=\"T_94ce4182_5b1f_11ea_be4b_9cb6d09af720row3_col0\" class=\"data row3 col0\" >8</td>\n",
       "                        <td id=\"T_94ce4182_5b1f_11ea_be4b_9cb6d09af720row3_col1\" class=\"data row3 col1\" >$4.88</td>\n",
       "                        <td id=\"T_94ce4182_5b1f_11ea_be4b_9cb6d09af720row3_col2\" class=\"data row3 col2\" >$39.04</td>\n",
       "            </tr>\n",
       "            <tr>\n",
       "                        <th id=\"T_94ce4182_5b1f_11ea_be4b_9cb6d09af720level0_row4\" class=\"row_heading level0 row4\" >103</th>\n",
       "                        <th id=\"T_94ce4182_5b1f_11ea_be4b_9cb6d09af720level1_row4\" class=\"row_heading level1 row4\" >Singed Scalpel</th>\n",
       "                        <td id=\"T_94ce4182_5b1f_11ea_be4b_9cb6d09af720row4_col0\" class=\"data row4 col0\" >8</td>\n",
       "                        <td id=\"T_94ce4182_5b1f_11ea_be4b_9cb6d09af720row4_col1\" class=\"data row4 col1\" >$4.35</td>\n",
       "                        <td id=\"T_94ce4182_5b1f_11ea_be4b_9cb6d09af720row4_col2\" class=\"data row4 col2\" >$34.80</td>\n",
       "            </tr>\n",
       "    </tbody></table>"
      ],
      "text/plain": [
       "<pandas.io.formats.style.Styler at 0x24f540f33c8>"
      ]
     },
     "execution_count": 10,
     "metadata": {},
     "output_type": "execute_result"
    }
   ],
   "source": [
    "#5 Most Profitable Items (by total purchase value)\n",
    "top_5_profitable = total_purchase_table.sort_values([\"Price\"],ascending = False).head(5)\n",
    "top_5_profitable = top_5_profitable.drop(columns = [\"Purchase ID\",\"Age\"])\n",
    "item_purchase_count = person_purchase_count.drop(columns = [\"SN\",\"Age\",\"Gender\",\"Item Name\",\"Price\"])\n",
    "most_profitable_pre = pd.merge(top_5_profitable, item_purchase_count,on = \"Item ID\", how = \"left\")\n",
    "most_profitable = pd.merge(most_profitable_pre,purchase_raw_dropped, on = \"Item ID\", how = \"left\")\n",
    "most_profitable = most_profitable[[\"Item ID\", \"Item Name\",\"Purchase ID\", \"Price_y\",\"Price_x\"]].set_index([\"Item ID\", \"Item Name\"])\n",
    "most_profitable = most_profitable.rename(columns = {\"Purchase ID\": \"Purchase Count\", \"Price_y\":\"Item Price\", \"Price_x\":\"Total Purchase Value\"})\n",
    "most_profitable_format = {'Item Price':'${:,.2f}', \"Total Purchase Value\": '${:,.2f}'}\n",
    "most_profitable.style.format(most_profitable_format)"
   ]
  },
  {
   "cell_type": "code",
   "execution_count": null,
   "metadata": {},
   "outputs": [],
   "source": []
  }
 ],
 "metadata": {
  "kernelspec": {
   "display_name": "Python 3",
   "language": "python",
   "name": "python3"
  },
  "language_info": {
   "codemirror_mode": {
    "name": "ipython",
    "version": 3
   },
   "file_extension": ".py",
   "mimetype": "text/x-python",
   "name": "python",
   "nbconvert_exporter": "python",
   "pygments_lexer": "ipython3",
   "version": "3.7.4"
  }
 },
 "nbformat": 4,
 "nbformat_minor": 2
}
